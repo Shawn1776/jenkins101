{
 "cells": [
  {
   "cell_type": "code",
   "execution_count": 9,
   "metadata": {},
   "outputs": [],
   "source": [
    "def get_formatted_name(first, last):\n",
    "    full_name = f\"{first.title()} {last.title()}\"\n",
    "    return full_name\n"
   ]
  },
  {
   "cell_type": "code",
   "execution_count": 16,
   "metadata": {},
   "outputs": [],
   "source": [
    "import unittest\n",
    "\n",
    "class NamesTestCase(unittest.TestCase):\n",
    "    def test_name_formatted(self):\n",
    "        formatted_name = get_formatted_name(\"andrew\", 'yang')\n",
    "        self.assertEqual(formatted_name, 'Andrew Yang')\n",
    "\n",
    "if __name__ == '__main()__':\n",
    "    unittest.main()\n"
   ]
  },
  {
   "cell_type": "code",
   "execution_count": 17,
   "metadata": {},
   "outputs": [],
   "source": [
    "sol = NamesTestCase()\n",
    "sol.test_name_formatted()"
   ]
  },
  {
   "cell_type": "code",
   "execution_count": 25,
   "metadata": {},
   "outputs": [
    {
     "name": "stdout",
     "output_type": "stream",
     "text": [
      "Shawn ate a(an) apple at 2pm\n"
     ]
    }
   ],
   "source": [
    "name='Shawn'\n",
    "food ='apple'\n",
    "time = 2\n",
    "print(f\"{name} ate a(an) {food} at {time}pm\")"
   ]
  },
  {
   "cell_type": "code",
   "execution_count": null,
   "metadata": {},
   "outputs": [],
   "source": []
  }
 ],
 "metadata": {
  "kernelspec": {
   "display_name": "base",
   "language": "python",
   "name": "python3"
  },
  "language_info": {
   "codemirror_mode": {
    "name": "ipython",
    "version": 3
   },
   "file_extension": ".py",
   "mimetype": "text/x-python",
   "name": "python",
   "nbconvert_exporter": "python",
   "pygments_lexer": "ipython3",
   "version": "3.10.9"
  },
  "orig_nbformat": 4
 },
 "nbformat": 4,
 "nbformat_minor": 2
}
