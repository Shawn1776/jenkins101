{
 "cells": [
  {
   "cell_type": "code",
   "execution_count": 2,
   "metadata": {},
   "outputs": [
    {
     "name": "stdout",
     "output_type": "stream",
     "text": [
      "Collecting pymongo\n",
      "  Downloading pymongo-4.3.3-cp310-cp310-macosx_10_9_universal2.whl (413 kB)\n",
      "\u001b[2K     \u001b[90m━━━━━━━━━━━━━━━━━━━━━━━━━━━━━━━━━━━━━\u001b[0m \u001b[32m413.2/413.2 kB\u001b[0m \u001b[31m993.5 kB/s\u001b[0m eta \u001b[36m0:00:00\u001b[0ma \u001b[36m0:00:01\u001b[0m\n",
      "\u001b[?25hCollecting dnspython<3.0.0,>=1.16.0\n",
      "  Using cached dnspython-2.3.0-py3-none-any.whl (283 kB)\n",
      "Installing collected packages: dnspython, pymongo\n",
      "Successfully installed dnspython-2.3.0 pymongo-4.3.3\n"
     ]
    }
   ],
   "source": [
    "!pip install pymongo"
   ]
  },
  {
   "cell_type": "code",
   "execution_count": 6,
   "metadata": {},
   "outputs": [
    {
     "name": "stdout",
     "output_type": "stream",
     "text": [
      "\u001b[31mERROR: Could not find a version that satisfies the requirement sys (from versions: none)\u001b[0m\u001b[31m\n",
      "\u001b[0m\u001b[31mERROR: No matching distribution found for sys\u001b[0m\u001b[31m\n",
      "\u001b[0m"
     ]
    }
   ],
   "source": [
    "!pip install sys"
   ]
  },
  {
   "cell_type": "code",
   "execution_count": 1,
   "metadata": {},
   "outputs": [
    {
     "ename": "ModuleNotFoundError",
     "evalue": "No module named 'pymongo'",
     "output_type": "error",
     "traceback": [
      "\u001b[0;31m---------------------------------------------------------------------------\u001b[0m",
      "\u001b[0;31mModuleNotFoundError\u001b[0m                       Traceback (most recent call last)",
      "Cell \u001b[0;32mIn[1], line 1\u001b[0m\n\u001b[0;32m----> 1\u001b[0m \u001b[39mfrom\u001b[39;00m \u001b[39mpymongo\u001b[39;00m \u001b[39mimport\u001b[39;00m MongoClient\n\u001b[1;32m      2\u001b[0m host_and_port \u001b[39m=\u001b[39m \u001b[39m'\u001b[39m\u001b[39m<hostname>:<port_number>\u001b[39m\u001b[39m'\u001b[39m \u001b[39m# azure.dosmosdb.microsoft.atl.com:21738\u001b[39;00m\n\u001b[1;32m      3\u001b[0m client\u001b[39m=\u001b[39mMongoClient(host_and_port)\n",
      "\u001b[0;31mModuleNotFoundError\u001b[0m: No module named 'pymongo'"
     ]
    }
   ],
   "source": [
    "from pymongo import MongoClient\n",
    "host_and_port = '<hostname>:<port_number>' # azure.dosmosdb.microsoft.atl.com:21738\n",
    "client=MongoClient(host_and_port)\n",
    "dateset = 'set1'\n",
    "my_db = client[dataset] # client\n",
    "conllection = 'name'\n",
    "my_collection = my_db[collection]"
   ]
  },
  {
   "cell_type": "code",
   "execution_count": null,
   "metadata": {},
   "outputs": [],
   "source": []
  },
  {
   "cell_type": "code",
   "execution_count": 48,
   "metadata": {},
   "outputs": [
    {
     "name": "stdout",
     "output_type": "stream",
     "text": [
      "test1\n",
      "/Users/shawn/git-sandbox/learn_tools/jenkins101/notebooks\n",
      "[]\n",
      "\n",
      "__main__\n",
      "__main__\n",
      "{'name': 'test1', 'parameter_names': [], 'py_dir': '/Users/shawn/git-sandbox/learn_tools/jenkins101/notebooks', 'class_name': '__main__', 'module_name': '__main__', 'dict': {...}}\n",
      "{'name': 'test1', 'parameter_names': [], 'py_dir': '/Users/shawn/git-sandbox/learn_tools/jenkins101/notebooks', 'class_name': '__main__', 'module_name': '__main__', 'dict': {...}}\n",
      "__main__\n"
     ]
    }
   ],
   "source": [
    "import os\n",
    "# python class pre-defined para.s \n",
    "class TestClass:\n",
    "    name = 'a'\n",
    "    #class_name=__name__\n",
    "\n",
    "    def __init__(self, name)->None:\n",
    "        self.name=name\n",
    "        self.parameter_names=[]\n",
    "        #self.py_dir=os.path.dirname(__file__) # __file__ is a special attribute in Python that contains the path of the current file\n",
    "        self.py_dir=os.getcwd()\n",
    "\n",
    "        self.class_name=__name__\n",
    "        self.module_name=self.__module__\n",
    "        self.dict=self.__dict__\n",
    "\n",
    "test1 = TestClass('test1')\n",
    "\n",
    "print(test1.name)\n",
    "print(test1.py_dir)\n",
    "print(test1.parameter_names)\n",
    "print()\n",
    "print(test1.class_name)\n",
    "print(test1.module_name)\n",
    "print(test1.dict)\n",
    "\n",
    "print(test1.__dict__)\n",
    "print(test1.__module__)"
   ]
  },
  {
   "cell_type": "code",
   "execution_count": null,
   "metadata": {},
   "outputs": [],
   "source": []
  },
  {
   "cell_type": "code",
   "execution_count": null,
   "metadata": {},
   "outputs": [],
   "source": []
  }
 ],
 "metadata": {
  "kernelspec": {
   "display_name": "base",
   "language": "python",
   "name": "python3"
  },
  "language_info": {
   "codemirror_mode": {
    "name": "ipython",
    "version": 3
   },
   "file_extension": ".py",
   "mimetype": "text/x-python",
   "name": "python",
   "nbconvert_exporter": "python",
   "pygments_lexer": "ipython3",
   "version": "3.11.0"
  },
  "orig_nbformat": 4
 },
 "nbformat": 4,
 "nbformat_minor": 2
}
