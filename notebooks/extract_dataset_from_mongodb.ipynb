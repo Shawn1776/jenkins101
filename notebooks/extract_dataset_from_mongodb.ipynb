{
 "cells": [
  {
   "cell_type": "code",
   "execution_count": null,
   "metadata": {},
   "outputs": [],
   "source": [
    "from pymongo import MongoClient\n",
    "host_and_port = '<hostname>:<port_number>' # azure.dosmosdb.microsoft.atl.com:21738\n",
    "client=MongoClient(host_and_port)\n",
    "dateset = 'set1'\n",
    "my_db = client[dataset] # client\n",
    "conllection = 'name'\n",
    "my_collection = my_db[collection]"
   ]
  }
 ],
 "metadata": {
  "language_info": {
   "name": "python"
  },
  "orig_nbformat": 4
 },
 "nbformat": 4,
 "nbformat_minor": 2
}
