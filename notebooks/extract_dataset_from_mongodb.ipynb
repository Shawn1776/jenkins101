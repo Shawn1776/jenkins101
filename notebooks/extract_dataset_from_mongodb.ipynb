{
 "cells": [
  {
   "cell_type": "code",
   "execution_count": 2,
   "metadata": {},
   "outputs": [
    {
     "name": "stdout",
     "output_type": "stream",
     "text": [
      "Collecting pymongo\n",
      "  Downloading pymongo-4.3.3-cp310-cp310-macosx_10_9_universal2.whl (413 kB)\n",
      "\u001b[2K     \u001b[90m━━━━━━━━━━━━━━━━━━━━━━━━━━━━━━━━━━━━━\u001b[0m \u001b[32m413.2/413.2 kB\u001b[0m \u001b[31m993.5 kB/s\u001b[0m eta \u001b[36m0:00:00\u001b[0ma \u001b[36m0:00:01\u001b[0m\n",
      "\u001b[?25hCollecting dnspython<3.0.0,>=1.16.0\n",
      "  Using cached dnspython-2.3.0-py3-none-any.whl (283 kB)\n",
      "Installing collected packages: dnspython, pymongo\n",
      "Successfully installed dnspython-2.3.0 pymongo-4.3.3\n"
     ]
    }
   ],
   "source": [
    "!pip install pymongo"
   ]
  },
  {
   "cell_type": "code",
   "execution_count": 6,
   "metadata": {},
   "outputs": [
    {
     "name": "stdout",
     "output_type": "stream",
     "text": [
      "\u001b[31mERROR: Could not find a version that satisfies the requirement sys (from versions: none)\u001b[0m\u001b[31m\n",
      "\u001b[0m\u001b[31mERROR: No matching distribution found for sys\u001b[0m\u001b[31m\n",
      "\u001b[0m"
     ]
    }
   ],
   "source": [
    "!pip install sys"
   ]
  },
  {
   "cell_type": "code",
   "execution_count": 1,
   "metadata": {},
   "outputs": [
    {
     "ename": "ModuleNotFoundError",
     "evalue": "No module named 'pymongo'",
     "output_type": "error",
     "traceback": [
      "\u001b[0;31m---------------------------------------------------------------------------\u001b[0m",
      "\u001b[0;31mModuleNotFoundError\u001b[0m                       Traceback (most recent call last)",
      "Cell \u001b[0;32mIn[1], line 1\u001b[0m\n\u001b[0;32m----> 1\u001b[0m \u001b[39mfrom\u001b[39;00m \u001b[39mpymongo\u001b[39;00m \u001b[39mimport\u001b[39;00m MongoClient\n\u001b[1;32m      2\u001b[0m host_and_port \u001b[39m=\u001b[39m \u001b[39m'\u001b[39m\u001b[39m<hostname>:<port_number>\u001b[39m\u001b[39m'\u001b[39m \u001b[39m# azure.dosmosdb.microsoft.atl.com:21738\u001b[39;00m\n\u001b[1;32m      3\u001b[0m client\u001b[39m=\u001b[39mMongoClient(host_and_port)\n",
      "\u001b[0;31mModuleNotFoundError\u001b[0m: No module named 'pymongo'"
     ]
    }
   ],
   "source": [
    "from pymongo import MongoClient\n",
    "host_and_port = '<hostname>:<port_number>' # azure.dosmosdb.microsoft.atl.com:21738\n",
    "client=MongoClient(host_and_port)\n",
    "dateset = 'set1'\n",
    "my_db = client[dataset] # client\n",
    "conllection = 'name'\n",
    "my_collection = my_db[collection]"
   ]
  },
  {
   "cell_type": "code",
   "execution_count": null,
   "metadata": {},
   "outputs": [],
   "source": []
  },
  {
   "cell_type": "code",
   "execution_count": 48,
   "metadata": {},
   "outputs": [
    {
     "name": "stdout",
     "output_type": "stream",
     "text": [
      "test1\n",
      "/Users/shawn/git-sandbox/learn_tools/jenkins101/notebooks\n",
      "[]\n",
      "\n",
      "__main__\n",
      "__main__\n",
      "{'name': 'test1', 'parameter_names': [], 'py_dir': '/Users/shawn/git-sandbox/learn_tools/jenkins101/notebooks', 'class_name': '__main__', 'module_name': '__main__', 'dict': {...}}\n",
      "{'name': 'test1', 'parameter_names': [], 'py_dir': '/Users/shawn/git-sandbox/learn_tools/jenkins101/notebooks', 'class_name': '__main__', 'module_name': '__main__', 'dict': {...}}\n",
      "__main__\n"
     ]
    }
   ],
   "source": [
    "import os\n",
    "# python class pre-defined para.s \n",
    "class TestClass:\n",
    "    name = 'a'\n",
    "    #class_name=__name__\n",
    "\n",
    "    def __init__(self, name)->None:\n",
    "        self.name=name\n",
    "        self.parameter_names=[]\n",
    "        #self.py_dir=os.path.dirname(__file__) # __file__ is a special attribute in Python that contains the path of the current file\n",
    "        self.py_dir = os.getcwd()\n",
    "        self.path   = os.path.join(test1.py_dir, 'rtune', 'config')\n",
    "\n",
    "        self.class_name=__name__\n",
    "        self.module_name=self.__module__\n",
    "        self.dict=self.__dict__\n",
    "\n",
    "    def load_runid_dict_file(self, path):\n",
    "        with open(path) as json_file:\n",
    "            local_dict=json.load(json_file)\n",
    "            for key in local_dict.keys()\n",
    "            if len(local_dict[key])>0:\n",
    "                self.runid_dict[key]=local_dict[key]\n",
    "\n",
    "\n",
    "    def load_path_dir(self, path):\n",
    "        obj=os.scandir(config_dir)\n",
    "        for entry in obj:\n",
    "            if entry.name.endswith('_prim.json'):\n",
    "                self.load_runid_dict_file(entry.path)\n",
    "        self.build_excl()\n",
    "        self.build_subset()\n",
    "        self.build_parameter_names()\n",
    "\n",
    "\n",
    "    def load(self):\n",
    "        self.load_path_dir(self.path)\n",
    "test1 = TestClass('test1')\n",
    "\n",
    "print(test1.name)\n",
    "print(test1.py_dir)\n",
    "print(test1.parameter_names)\n",
    "print()\n",
    "print(test1.class_name)\n",
    "print(test1.module_name)\n",
    "print(test1.dict)\n",
    "\n",
    "print(test1.__dict__)\n",
    "print(test1.__module__)"
   ]
  },
  {
   "cell_type": "code",
   "execution_count": 49,
   "metadata": {},
   "outputs": [
    {
     "data": {
      "text/plain": [
       "'/Users/shawn/git-sandbox/learn_tools/jenkins101/notebooks/rtune/config'"
      ]
     },
     "execution_count": 49,
     "metadata": {},
     "output_type": "execute_result"
    }
   ],
   "source": [
    "os.path.join(test1.py_dir, 'rtune', 'config')"
   ]
  },
  {
   "cell_type": "code",
   "execution_count": 60,
   "metadata": {},
   "outputs": [
    {
     "name": "stdout",
     "output_type": "stream",
     "text": [
      "0 {0: 'a'}\n",
      "1 {1: 'b'}\n",
      "2 {0: 'a', 1: 'b'}\n"
     ]
    }
   ],
   "source": [
    "# dict test\n",
    "dict1 = {}\n",
    "dict2 = {}\n",
    "dict1[0] = {0:'a'}\n",
    "dict1[1] = {1:'b'}\n",
    "dict1[2] = {0:'a', 1:'b'}\n",
    "\n",
    "for i, j in dict1.items():\n",
    "    print(i,j)\n",
    "    size = len(j)\n",
    "    dict2.setdefault(size, []).append(i)\n"
   ]
  },
  {
   "cell_type": "code",
   "execution_count": 61,
   "metadata": {},
   "outputs": [
    {
     "data": {
      "text/plain": [
       "{1: [0, 1], 2: [2]}"
      ]
     },
     "execution_count": 61,
     "metadata": {},
     "output_type": "execute_result"
    }
   ],
   "source": [
    "dict2"
   ]
  },
  {
   "cell_type": "code",
   "execution_count": 78,
   "metadata": {},
   "outputs": [
    {
     "name": "stdout",
     "output_type": "stream",
     "text": [
      "{1: [0, 1], 2: [2]}\n",
      "\n",
      "\n",
      " 1 4\n",
      "1 [0, 1]\n",
      "key:  0\n",
      "{0: {0: 'a'}, 1: {1: 'b'}, 2: {0: 'a', 1: 'b'}}\n",
      "dict_items([(0, 'a')])\n",
      "0 a\n",
      "{0: [0]}\n",
      "key:  1\n",
      "{0: {0: 'a'}, 1: {1: 'b'}, 2: {0: 'a', 1: 'b'}}\n",
      "dict_items([(1, 'b')])\n",
      "1 b\n",
      "{0: [0], 1: [1]}\n",
      "2 [2]\n",
      "key:  2\n",
      "{0: {0: 'a'}, 1: {1: 'b'}, 2: {0: 'a', 1: 'b'}}\n",
      "dict_items([(0, 'a'), (1, 'b')])\n",
      "0 a\n",
      "{0: [0, 2], 1: [1]}\n",
      "{0: {0: 'a'}, 1: {1: 'b'}, 2: {0: 'a', 1: 'b'}}\n",
      "dict_items([(0, 'a'), (1, 'b')])\n",
      "1 b\n",
      "{0: [0, 2], 1: [1, 2]}\n",
      "{0: [0, 2], 1: [1, 2]}\n",
      "\n",
      "\n",
      " 5 26\n",
      "{}\n"
     ]
    }
   ],
   "source": [
    "print(dict2)\n",
    "for l, h in [[1, 4], [5, 26]]:\n",
    "    p_dict={}\n",
    "    print('\\n\\n', l, h)\n",
    "    for s in range(l, h+1):\n",
    "        # print(s)\n",
    "        if s in dict2:\n",
    "            print(s, dict2[s])\n",
    "            key_l = dict2[s]\n",
    "            for key in key_l:\n",
    "                print('key: ',key)\n",
    "                for p, v in dict1[key].items():\n",
    "                    print(dict1)\n",
    "                    print(dict1[key].items())\n",
    "                    print(p, v)\n",
    "                    p_dict.setdefault(p,[]).append(key) # if have p_dict[key] return p_dict[key], if no key, then insert key and set p_dict[key]=[key]\n",
    "                    print(p_dict)\n",
    "    print(p_dict)"
   ]
  },
  {
   "cell_type": "code",
   "execution_count": 82,
   "metadata": {},
   "outputs": [
    {
     "data": {
      "text/plain": [
       "[0.5958620689655172,\n",
       " 0.2620689655172414,\n",
       " 0.09241379310344827,\n",
       " 0.0496551724137931]"
      ]
     },
     "execution_count": 82,
     "metadata": {},
     "output_type": "execute_result"
    }
   ],
   "source": [
    "x_list = [432, 190,67, 36]\n",
    "s = sum(x_list)\n",
    "[x/(s*1.0) for x in x_list ]//"
   ]
  },
  {
   "cell_type": "code",
   "execution_count": 74,
   "metadata": {},
   "outputs": [],
   "source": [
    "car = {\n",
    "  \"brand\": \"Ford\",\n",
    "  \"model\": [\"Mustang\"],\n",
    "  \"year\": 1964,\n",
    "  \"okay\":['a']\n",
    "}\n",
    "\n",
    "x = car.setdefault(\"okay\", []).append(\"key\")\n"
   ]
  },
  {
   "cell_type": "code",
   "execution_count": 11,
   "metadata": {},
   "outputs": [],
   "source": [
    "import time, psutil, os\n",
    "time.sleep(0.05)\n",
    "def get_mem():\n",
    "    print(\"mem used: \", psutil.Process(os.getpid()).memory_info().rss / 1024 ** 2, \" MB\")"
   ]
  },
  {
   "cell_type": "markdown",
   "metadata": {},
   "source": [
    "This code snippet uses the Python psutil library to get the memory usage of the current process in megabytes (MB).\n",
    "\n",
    "Here's a breakdown of how the code works:\n",
    "\n",
    "psutil.Process(os.getpid()): This creates a psutil.Process object for the current process, identified by the process ID (os.getpid()).\n",
    "\n",
    ".memory_info(): This method of the psutil.Process object returns a named tuple containing various memory-related statistics for the process, such as the resident set size (RSS), which is the amount of physical memory (RAM) occupied by the process.\n",
    "\n",
    ".rss: This attribute of the memory info named tuple returns the RSS of the process in bytes.\n",
    "\n",
    "/ 1024 ** 2: This divides the RSS by 1024 raised to the power of 2 (i.e., 1024 squared) to convert the result from bytes to megabytes (MB).\n",
    "\n",
    "Overall, the code returns the memory usage of the current process in MB as a floating-point number."
   ]
  },
  {
   "cell_type": "code",
   "execution_count": 12,
   "metadata": {},
   "outputs": [
    {
     "name": "stdout",
     "output_type": "stream",
     "text": [
      "mem used:  77.90234375  MB\n"
     ]
    }
   ],
   "source": [
    "get_mem()"
   ]
  },
  {
   "cell_type": "code",
   "execution_count": 13,
   "metadata": {},
   "outputs": [
    {
     "name": "stdout",
     "output_type": "stream",
     "text": [
      "100\n"
     ]
    }
   ],
   "source": [
    "time.sleep(1)\n",
    "print(100)"
   ]
  },
  {
   "cell_type": "code",
   "execution_count": null,
   "metadata": {},
   "outputs": [],
   "source": []
  }
 ],
 "metadata": {
  "kernelspec": {
   "display_name": "base",
   "language": "python",
   "name": "python3"
  },
  "language_info": {
   "codemirror_mode": {
    "name": "ipython",
    "version": 3
   },
   "file_extension": ".py",
   "mimetype": "text/x-python",
   "name": "python",
   "nbconvert_exporter": "python",
   "pygments_lexer": "ipython3",
   "version": "3.11.0"
  },
  "orig_nbformat": 4
 },
 "nbformat": 4,
 "nbformat_minor": 2
}
