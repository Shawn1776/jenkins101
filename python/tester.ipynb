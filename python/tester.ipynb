{
 "cells": [
  {
   "cell_type": "code",
   "execution_count": 42,
   "metadata": {},
   "outputs": [],
   "source": [
    "\"\"\"\n",
    "As arguments in functions and methods\n",
    "\n",
    "In a function definition, the double asterisk is also known  **kwargs. \n",
    "They used to pass a keyword, variable-length argument dictionary to a function. \n",
    "The two asterisks (**) are the important element here, as the word kwargs is conventionally used, though not enforced by the language.\n",
    "\n",
    "First, let’s simply print out the **kwargs arguments that we pass to a function. We’ll create a short function to do this:\n",
    "\"\"\"\n",
    "def demoTwoAsterisks(**kwargs):\n",
    "  for key, value in kwargs.items():\n",
    "        print(\"The value of {} is {}\".format(key, value))\n",
    "  print(\">>> end of demoTwoAsterisks >>>\")\n",
    "\n",
    "\"\"\"\n",
    "Unpacking a function using positional argument.\n",
    "This method is very useful while printing your data in a raw format (without any comma and brackets ). \n",
    "Many of the programmer try to remove comma and bracket by using a convolution of functions, \n",
    "Hence this simple prefix asterisk can solve your problem in unpacking them.  \n",
    "\"\"\"\n",
    "def demoOneAsterisks(*args):\n",
    "  for value in args:\n",
    "        print(\"The value is {}\".format(value))\n",
    "  print(\">>> end of demoOneAsterisks >>>\")\n",
    "\n",
    "def tester():\n",
    "    testList=[\n",
    "        {\n",
    "            \"name\": \"data structure test(dst) 1: check return\",\n",
    "            \"command\": dstReturn,\n",
    "            \"args\": [\"TEST1\"],\n",
    "            \"kwargs\": {},\n",
    "            \"outputs\": [\"TEST1\"],\n",
    "            },\n",
    "        {\n",
    "            \"name\": \"data structure test(dst) 2: check type conversions\",\n",
    "            \"command\": dstTypeConversions,\n",
    "            \"args\": [\"1.8\", \"5\", \"strExample\", \"symExample\", 123, 123.6],\n",
    "            \"kwargs\": {},\n",
    "            \"outputs\": [1.8, 5, \"symExample\", \"strExample\", \"123\", 123, 123.0],\n",
    "            },\n",
    "        {\n",
    "            \"name\": \"data structure test(dst) 3: check production key\",\n",
    "            \"command\": dstProductionKey,\n",
    "            \"args\": [\"1\"],\n",
    "            \"kwargs\": {\"arg3\": \"3\"},\n",
    "            \"outputs\": [\"1\", \"2\", \"3\"],\n",
    "            }\n",
    "    ]\n",
    "    check_counter = iter(range(len(testList)))\n",
    "    \n",
    "    for check in testList:\n",
    "      try:\n",
    "        demoTwoAsterisks(**check[\"kwargs\"])\n",
    "        demoOneAsterisks(*check[\"args\"])\n",
    "        return_values = check[\"command\"](*check[\"args\"], **check[\"kwargs\"])\n",
    "\n",
    "        if return_values == check[\"outputs\"]:\n",
    "          print(\"(%s)\\tCheck : %s : Passed\" % (next(check_counter), check[\"name\"]))\n",
    "        else:\n",
    "          print(\n",
    "            \"(%d)\\tCheck : %s : Failed : Actual %s and Expected %s\"\n",
    "            % (next(check_counter), check[\"name\"], return_values, check[\"outputs\"])\n",
    "          )\n",
    "      except Exception as e:\n",
    "        print(\n",
    "          \"(%s)\\tCheck : %s : error : Fatal %s\" % (next(check_counter), check[\"name\"], e)\n",
    "        )\n"
   ]
  },
  {
   "cell_type": "code",
   "execution_count": 43,
   "metadata": {},
   "outputs": [],
   "source": [
    "def dstReturn(arg1):\n",
    "    testDb={\"val\":arg1}\n",
    "    return [testDb[\"val\"]]\n",
    "\n",
    "def dstTypeConversions(arg1):\n",
    "    testDb={\"val\":arg1}\n",
    "    return [testDb[\"val\"]]\n",
    "\n",
    "def dstProductionKey(arg1, arg2=\"2\", arg3=None):\n",
    "    print([arg1, arg2, arg3])\n",
    "    return [arg1, arg2, arg3]"
   ]
  },
  {
   "cell_type": "code",
   "execution_count": 44,
   "metadata": {},
   "outputs": [
    {
     "name": "stdout",
     "output_type": "stream",
     "text": [
      ">>> end of demoTwoAsterisks >>>\n",
      "The value is TEST1\n",
      ">>> end of demoOneAsterisks >>>\n",
      "(0)\tCheck : data structure test(dst) 1: check return : Passed\n",
      ">>> end of demoTwoAsterisks >>>\n",
      "The value is 1.8\n",
      "The value is 5\n",
      "The value is strExample\n",
      "The value is symExample\n",
      "The value is 123\n",
      "The value is 123.6\n",
      ">>> end of demoOneAsterisks >>>\n",
      "(1)\tCheck : data structure test(dst) 2: check type conversions : error : Fatal dstTypeConversions() takes 1 positional argument but 6 were given\n",
      "The value of arg3 is 3\n",
      ">>> end of demoTwoAsterisks >>>\n",
      "The value is 1\n",
      ">>> end of demoOneAsterisks >>>\n",
      "['1', '2', '3']\n",
      "(2)\tCheck : data structure test(dst) 3: check production key : Passed\n"
     ]
    }
   ],
   "source": [
    "tester()"
   ]
  },
  {
   "cell_type": "code",
   "execution_count": 16,
   "metadata": {},
   "outputs": [
    {
     "ename": "SyntaxError",
     "evalue": "invalid syntax (2484034748.py, line 1)",
     "output_type": "error",
     "traceback": [
      "\u001b[0;36m  Cell \u001b[0;32mIn[16], line 1\u001b[0;36m\u001b[0m\n\u001b[0;31m    **{\"arg3\": \"3\"}\u001b[0m\n\u001b[0m    ^\u001b[0m\n\u001b[0;31mSyntaxError\u001b[0m\u001b[0;31m:\u001b[0m invalid syntax\n"
     ]
    }
   ],
   "source": [
    "**{\"arg3\": \"3\"}"
   ]
  },
  {
   "cell_type": "code",
   "execution_count": 38,
   "metadata": {},
   "outputs": [
    {
     "name": "stdout",
     "output_type": "stream",
     "text": [
      "[1, 2, 3]\n",
      "1 2 3\n"
     ]
    }
   ],
   "source": [
    "print([1,2,3])\n",
    "lst = [1,2,3]\n",
    "print(*lst)"
   ]
  },
  {
   "cell_type": "code",
   "execution_count": null,
   "metadata": {},
   "outputs": [],
   "source": []
  },
  {
   "cell_type": "code",
   "execution_count": null,
   "metadata": {},
   "outputs": [],
   "source": []
  }
 ],
 "metadata": {
  "kernelspec": {
   "display_name": "base",
   "language": "python",
   "name": "python3"
  },
  "language_info": {
   "codemirror_mode": {
    "name": "ipython",
    "version": 3
   },
   "file_extension": ".py",
   "mimetype": "text/x-python",
   "name": "python",
   "nbconvert_exporter": "python",
   "pygments_lexer": "ipython3",
   "version": "3.10.9"
  },
  "orig_nbformat": 4
 },
 "nbformat": 4,
 "nbformat_minor": 2
}
